{
 "cells": [
  {
   "cell_type": "code",
   "execution_count": null,
   "metadata": {},
   "outputs": [],
   "source": [
    "%load_ext autoreload\n",
    "%autoreload 2"
   ]
  },
  {
   "cell_type": "code",
   "execution_count": null,
   "metadata": {},
   "outputs": [],
   "source": [
    "from non_rigid.datasets.proc_cloth_flow import DeformablePlacementDataset\n",
    "from omegaconf import OmegaConf\n",
    "from pathlib import Path\n",
    "\n",
    "dataset = DeformablePlacementDataset(\n",
    "    root=Path(\"/home/beisner/datasets/tax3d_data/proccloth/cloth=single-fixed anchor=single-random hole=single\"),\n",
    "    dataset_cfg=OmegaConf.create({\n",
    "        \"train_size\": 1,\n",
    "        \"scene\": False,\n",
    "        \"sample_size_action\": 512,\n",
    "        \"sample_size_anchor\": 512,\n",
    "        \"world_frame\": False,\n",
    "        \"source\": \"dedo\",\n",
    "        \"anchor_occlusion\": False,\n",
    "        \"rotation_variance\": 0.0,\n",
    "        \"translation_variance\": 0.0,\n",
    "        \"action_transform_type\": \"identity\",\n",
    "        \"anchor_transform_type\": \"identity\",\n",
    "        \"center_type\": \"anchor_center\",\n",
    "        \"action_context_center_type\": \"center\",\n",
    "        \"downsample_type\": \"fps\",\n",
    "    }),\n",
    "    split=\"train_tax3d\",\n",
    ")\n",
    "print(dataset)"
   ]
  },
  {
   "cell_type": "code",
   "execution_count": null,
   "metadata": {},
   "outputs": [],
   "source": [
    "data = dataset[0]"
   ]
  },
  {
   "cell_type": "code",
   "execution_count": null,
   "metadata": {},
   "outputs": [],
   "source": [
    "for key, value in data.items():\n",
    "    print(f\"{key}: {value.shape if hasattr(value, 'shape') else value}\")"
   ]
  },
  {
   "cell_type": "code",
   "execution_count": null,
   "metadata": {},
   "outputs": [],
   "source": [
    "from rpad.visualize_3d.plots import segmentation_fig\n",
    "import torch \n",
    "\n",
    "fig = segmentation_fig(\n",
    "    data=torch.cat([\n",
    "        data[\"pc_action\"],\n",
    "        data[\"pc_anchor\"],\n",
    "        data[\"pc_action\"] + data[\"flow\"],\n",
    "    ]),\n",
    "    labels=torch.cat([\n",
    "        torch.zeros(data[\"pc_action\"].shape[0]),\n",
    "        torch.ones(data[\"pc_anchor\"].shape[0]),\n",
    "        torch.ones(data[\"pc_action\"].shape[0]) * 2,\n",
    "\n",
    "    ]).int(),\n",
    "    labelmap={\n",
    "        0: \"action\",\n",
    "        1: \"anchor\",\n",
    "        2: \"action + flow\",\n",
    "    },\n",
    ")\n",
    "fig"
   ]
  },
  {
   "cell_type": "code",
   "execution_count": null,
   "metadata": {},
   "outputs": [],
   "source": [
    "1+1"
   ]
  },
  {
   "cell_type": "code",
   "execution_count": null,
   "metadata": {},
   "outputs": [],
   "source": [
    "import lightning as L\n",
    "\n",
    "from PointTransformerV3.model import PointTransformerV3, Point\n",
    "from non_rigid.models.dit.models import PTv3_xs\n",
    "tformer = PointTransformerV3(enable_flash=False, in_channels=3)\n",
    "import torch.nn as nn\n",
    "import torch.nn.functional as F\n",
    "from torch import optim\n",
    "\n",
    "class PTv3RegressionModule(L.LightningModule):\n",
    "    def __init__(self):\n",
    "        super().__init__()\n",
    "        # self.model = PointTransformerV3(\n",
    "        #     enable_flash=False, \n",
    "        #     in_channels=3,\n",
    "        #     # enc_num_head=(2, 4, 8, 16, 32),\n",
    "        #     # dec_num_head=(4, 4, 8, 16),\n",
    "        #     # enc_num_head=(1, 2, 4, 8, 16),\n",
    "        #     # dec_num_head=(2, 2, 4, 8),\n",
    "        #     # enc_patch_size=(256, 256, 256, 256, 256),\n",
    "        #     # dec_patch_size=(256, 256, 256, 256),\n",
    "        #     # enable_rpe=True,\n",
    "        #     stride=(2, 2, 2),\n",
    "        #     enc_depths=(2, 2, 2, 6),\n",
    "        #     enc_channels=(32, 64, 128, 256),\n",
    "        #     enc_num_head=(2, 4, 8, 16),\n",
    "        #     enc_patch_size=(1024, 1024, 1024, 1024),\n",
    "        #     dec_depths=(2, 2, 2),\n",
    "        #     dec_channels=(64, 64, 128),\n",
    "        #     dec_num_head=(4, 4, 8),\n",
    "        #     dec_patch_size=(1024, 1024, 1024),\n",
    "        #     )\n",
    "        self.model = PTv3_xs()\n",
    "        # self.final_linear = nn.Linear(64, 3)\n",
    "        # 3 layer MLP\n",
    "        self.final_linear = nn.Sequential(\n",
    "            nn.Linear(64, 128),\n",
    "            nn.ReLU(),\n",
    "            nn.Linear(128, 64),\n",
    "            nn.ReLU(),\n",
    "            nn.Linear(64, 3),\n",
    "        )\n",
    "\n",
    "    def forward(self, batch):\n",
    "        # B, _, C = batch[\"pc_action\"].shape\n",
    "        # # full_pc = torch.cat([batch[\"pc_action\"], batch[\"pc_anchor\"]], dim=1)\n",
    "        # full_pc = batch[\"pc_action\"]\n",
    "\n",
    "        # # Reshape to (BxN, C), and create a batch vector with the indices.\n",
    "        # # Right now assuming that the batch has same number of points for each example.\n",
    "        # full_pc_squashed = full_pc.view(-1, C)\n",
    "        # full_pc_batch = torch.repeat_interleave(\n",
    "        #     torch.arange(B, device=full_pc.device), full_pc.shape[1]\n",
    "        # )\n",
    "\n",
    "        # # TO device.\n",
    "        # full_pc_squashed = full_pc_squashed.to(self.device)\n",
    "        # full_pc_batch = full_pc_batch.to(self.device)   \n",
    "\n",
    "        # data = Point(\n",
    "        #     coord=full_pc_squashed,\n",
    "        #     feat=full_pc_squashed,\n",
    "        #     batch=full_pc_batch,\n",
    "        #     grid_size=0.001,\n",
    "        # )\n",
    "        # pred = self.model(data)\n",
    "\n",
    "        # # Only need the action points.\n",
    "        # # Reshape back to (B, N, C)\n",
    "        # feats = pred.feat.view(B, -1, 64)\n",
    "        # action_feats = feats[:, :batch[\"pc_action\"].shape[1]]\n",
    "        action_feats = self.model(batch[\"pc_action\"].to(self.device))\n",
    "\n",
    "        return self.final_linear(action_feats)\n",
    "\n",
    "    def training_step(self, batch, batch_idx):\n",
    "        data = batch\n",
    "        output = self(data)\n",
    "        target = data[\"flow\"]\n",
    "        loss = F.mse_loss(output, target)\n",
    "        self.log_dict(\n",
    "            {\"train/loss\": loss},\n",
    "            add_dataloader_idx=False,\n",
    "            prog_bar=True,\n",
    "        )\n",
    "        return loss\n",
    "    \n",
    "    def predict(self, batch, num_samples=10):\n",
    "        # Predict multiple times and average.\n",
    "        preds = []\n",
    "        for _ in range(num_samples):\n",
    "            preds.append(self(batch))\n",
    "        return torch.stack(preds, dim=0)\n",
    "\n",
    "    def configure_optimizers(self):\n",
    "        return optim.Adam(self.model.parameters(), lr=1e-4)"
   ]
  },
  {
   "cell_type": "code",
   "execution_count": null,
   "metadata": {},
   "outputs": [],
   "source": [
    "from torch.utils.data import DataLoader\n",
    "dataloader = DataLoader(dataset, batch_size=1, shuffle=True)\n",
    "batch = next(iter(dataloader))\n",
    "\n",
    "device = \"cuda:1\"\n",
    "\n",
    "mod = PTv3RegressionModule().cuda()\n",
    "res = mod(batch)"
   ]
  },
  {
   "cell_type": "code",
   "execution_count": null,
   "metadata": {},
   "outputs": [],
   "source": [
    "res.shape"
   ]
  },
  {
   "cell_type": "code",
   "execution_count": null,
   "metadata": {},
   "outputs": [],
   "source": [
    "from non_rigid.models.regression import RegressionModule, RegressionNetwork\n",
    "from non_rigid.models.tax3d import CrossDisplacementModule, DiffusionTransformerNetwork\n",
    "\n",
    "NUM_TRAINING_STEPS = 50000\n",
    "REGRESSION = False\n",
    "\n",
    "if REGRESSION:\n",
    "    model_cfg = OmegaConf.create({\n",
    "        \"name\": \"regression\",\n",
    "\n",
    "        \"type\": \"flow\",\n",
    "        \"size\": \"xS\",\n",
    "        \"rotary\": False,\n",
    "        \"center_noise\": False,\n",
    "        \"in_channels\": 3,\n",
    "        \"learn_sigma\": False,\n",
    "        \"x_encoder\": \"mlp\",\n",
    "        \"y_encoder\": \"mlp\",\n",
    "        \"x0_encoder\": None,\n",
    "\n",
    "        \"diff_train_steps\": 100,\n",
    "    })\n",
    "    network = RegressionNetwork(model_cfg=model_cfg)\n",
    "    model = RegressionModule(network, cfg=OmegaConf.create({\n",
    "        \"mode\": \"train\",\n",
    "        \"prediction_type\": \"flow\",\n",
    "        \"model\": model_cfg,\n",
    "        \"training\": {\n",
    "            \"lr\": 1e-4,\n",
    "            \"weight_decay\": 1e-5,\n",
    "            \"num_training_steps\": NUM_TRAINING_STEPS,\n",
    "            \"lr_warmup_steps\": 100,\n",
    "            \"additional_train_logging_period\": 1000,\n",
    "            \"batch_size\": 1,\n",
    "            \"val_batch_size\": 1,\n",
    "            \"sample_size\": None,\n",
    "            \"sample_size_anchor\": None,\n",
    "            \"num_wta_trials\": 10,\n",
    "        }\n",
    "    }))\n",
    "else:\n",
    "    model_cfg = OmegaConf.create({\n",
    "        \"name\": \"df_cross\",\n",
    "\n",
    "        \"type\": \"flow\",\n",
    "        \"size\": \"xS\",\n",
    "        \"rotary\": False,\n",
    "        \"center_noise\": False,\n",
    "        \"in_channels\": 3,\n",
    "        \"learn_sigma\": True,\n",
    "        \"x_encoder\": \"mlp\",\n",
    "        # \"y_encoder\": \"mlp\",\n",
    "        # \"x0_encoder\": \"mlp\",\n",
    "        \"y_encoder\": \"ptv3_standalone\",\n",
    "        \"x0_encoder\": \"ptv3_standalone\",\n",
    "\n",
    "        \"diff_train_steps\": 100,\n",
    "        \"diff_inference_steps\": 100,\n",
    "        \"diff_noise_scale\": 1,\n",
    "        \"diff_noise_schedule\": \"linear\",\n",
    "        \"diff_type\": \"gaussian\",\n",
    "    })\n",
    "    network = DiffusionTransformerNetwork(model_cfg=model_cfg)\n",
    "    model = CrossDisplacementModule(network, cfg=OmegaConf.create({\n",
    "        \"mode\": \"train\",\n",
    "        \"prediction_type\": \"flow\",\n",
    "        \"model\": model_cfg,\n",
    "        \"training\": {\n",
    "            \"lr\": 1e-4,\n",
    "            \"weight_decay\": 1e-5,\n",
    "            \"num_training_steps\": NUM_TRAINING_STEPS,\n",
    "            \"lr_warmup_steps\": 100,\n",
    "            \"additional_train_logging_period\": 1000,\n",
    "            \"batch_size\": 1,\n",
    "            \"val_batch_size\": 1,\n",
    "            \"sample_size\": None,\n",
    "            \"sample_size_anchor\": None,\n",
    "            \"num_wta_trials\": 10,\n",
    "        }\n",
    "\n",
    "    }))\n",
    "\n",
    "\n",
    "# model = PTv3RegressionModule()\n",
    "                                "
   ]
  },
  {
   "cell_type": "code",
   "execution_count": null,
   "metadata": {},
   "outputs": [],
   "source": [
    "# Import default_collate from torch\n",
    "from torch.utils.data.dataloader import default_collate\n",
    "batch = default_collate([dataset[0]])\n",
    "\n",
    "# Dataloader on top of dataset[0]\n",
    "from torch.utils.data import DataLoader\n",
    "dataloader = DataLoader(dataset, batch_size=1, shuffle=True)\n",
    "\n",
    "# device = \"cuda\"\n",
    "# model = model.cuda()\n",
    "# batch = {k: v.cuda() if isinstance(v, torch.Tensor) else v for k, v in batch.items()}\n",
    "\n",
    "# optimizers, schedulers = model.configure_optimizers()\n",
    "\n"
   ]
  },
  {
   "cell_type": "code",
   "execution_count": null,
   "metadata": {},
   "outputs": [],
   "source": [
    "# Using the trainer...\n",
    "import lightning as L\n",
    "trainer = L.Trainer(\n",
    "    accelerator=\"gpu\",\n",
    "    devices=[0],\n",
    "    # precision=\"16-mixed\",\n",
    "    precision=\"32-true\",\n",
    "    max_epochs=NUM_TRAINING_STEPS,\n",
    "    # max_epochs=1000,\n",
    "    logger=False,\n",
    "    check_val_every_n_epoch=0,\n",
    "    # log_every_n_steps=2, # TODO: MOVE THIS TO TRAINING CFG\n",
    "    log_every_n_steps=1,\n",
    "    gradient_clip_val=1.0,\n",
    ")\n",
    "\n",
    "trainer.fit(model, dataloader)\n"
   ]
  },
  {
   "cell_type": "code",
   "execution_count": null,
   "metadata": {},
   "outputs": [],
   "source": [
    "model"
   ]
  },
  {
   "cell_type": "code",
   "execution_count": null,
   "metadata": {},
   "outputs": [],
   "source": [
    "from tqdm import tqdm\n",
    "\n",
    "losses = []\n",
    "with tqdm(range(NUM_TRAINING_STEPS)) as pbar:\n",
    "    for i in pbar:\n",
    "        loss = model.training_step(batch)\n",
    "        optimizers[0].zero_grad()\n",
    "        loss.backward()\n",
    "\n",
    "        losses.append(loss.item())\n",
    "\n",
    "        # Clip gradients\n",
    "        torch.nn.utils.clip_grad_norm_(model.parameters(), 1.0)\n",
    "\n",
    "        optimizers[0].step()\n",
    "\n",
    "        # Scheduler step\n",
    "        schedulers[0].step()\n",
    "\n",
    "        if i % 10 == 0:\n",
    "            pbar.set_description(f\"Step {i}, loss: {loss}\")\n",
    "    "
   ]
  },
  {
   "cell_type": "code",
   "execution_count": null,
   "metadata": {},
   "outputs": [],
   "source": [
    "# with_clipping_losses = losses\n",
    "without_clipping_losses = losses"
   ]
  },
  {
   "cell_type": "code",
   "execution_count": null,
   "metadata": {},
   "outputs": [],
   "source": [
    "import matplotlib.pyplot as plt\n",
    "\n",
    "plt.plot(without_clipping_losses, label=\"Without clipping\")\n",
    "plt.plot(with_clipping_losses, label=\"With clipping\")\n",
    "plt.legend()\n",
    "\n",
    "plt.show()"
   ]
  },
  {
   "cell_type": "code",
   "execution_count": null,
   "metadata": {},
   "outputs": [],
   "source": [
    "data[\"pc_action\"].shape"
   ]
  },
  {
   "cell_type": "code",
   "execution_count": null,
   "metadata": {},
   "outputs": [],
   "source": [
    "pred_point[0] - (data[\"pc_action\"] + pred_flow[0])"
   ]
  },
  {
   "cell_type": "code",
   "execution_count": null,
   "metadata": {},
   "outputs": [],
   "source": [
    "og_action - batch[\"pc_action\"]"
   ]
  },
  {
   "cell_type": "code",
   "execution_count": null,
   "metadata": {},
   "outputs": [],
   "source": [
    "# Make a prediction\n",
    "model.cuda()\n",
    "model.eval()\n",
    "with torch.no_grad():\n",
    "    prediction = model.predict(batch, num_samples=10)\n",
    "    # prediction = model.predict(batch, num_samples=10)[:, 0]\n",
    "\n",
    "pred_flow = prediction[\"flow\"][\"pred\"].cpu()\n",
    "# pred_point = prediction[\"point\"][\"pred\"].cpu()\n",
    "# og_action = prediction[\"pc_action_og\"].cpu()\n",
    "\n",
    "# pred_flow = prediction.cpu()\n",
    "\n",
    "fig = segmentation_fig(\n",
    "    data=torch.cat([\n",
    "        batch[\"pc_action\"][0],\n",
    "        batch[\"pc_anchor\"][0],\n",
    "        batch[\"pc_action\"][0] + batch[\"flow\"][0],\n",
    "        *[batch[\"pc_action\"][0] + pred_flow[i] for i in range(pred_flow.shape[0])],\n",
    "        # *[pred_point[i] for i in range(pred_point.shape[0])],\n",
    "    ]),\n",
    "    labels=torch.cat([\n",
    "        torch.zeros(data[\"pc_action\"].shape[0]),\n",
    "        torch.ones(data[\"pc_anchor\"].shape[0]),\n",
    "        torch.ones(data[\"pc_action\"].shape[0]) * 2,\n",
    "        *[torch.ones(data[\"pc_action\"].shape[0]) * (3 + i) for i in range(pred_flow.shape[0])],\n",
    "    ]).int(),\n",
    "    labelmap={\n",
    "        0: \"action\",\n",
    "        1: \"anchor\",\n",
    "        2: \"action + gt flow\",\n",
    "        **{3 + i: f\"action + pred flow {i}\" for i in range(pred_flow.shape[0])},\n",
    "    },\n",
    ")\n",
    "fig"
   ]
  },
  {
   "cell_type": "code",
   "execution_count": null,
   "metadata": {},
   "outputs": [],
   "source": [
    "preds = model(batch)[0].cpu()\n",
    "gt = batch[\"flow\"]\n",
    "\n",
    "print(f\"gt - preds: {(((gt - preds) ** 2).sum(dim=-1).sqrt()).mean()}\")"
   ]
  },
  {
   "cell_type": "code",
   "execution_count": null,
   "metadata": {},
   "outputs": [],
   "source": [
    "gt"
   ]
  },
  {
   "cell_type": "code",
   "execution_count": null,
   "metadata": {},
   "outputs": [],
   "source": [
    "((preds - gt) ** 2).sum(dim=-1).sqrt().max()"
   ]
  },
  {
   "cell_type": "code",
   "execution_count": null,
   "metadata": {},
   "outputs": [],
   "source": [
    "# Get Average RMSE of the predictions\n",
    "prediction = model.predict_wta(batch, num_samples=10)\n",
    "print(f\"RMSE: {prediction['rmse'].cpu()}\")\n",
    "print(f\"RMSE wta: {prediction['rmse_wta'].item()}\")"
   ]
  },
  {
   "cell_type": "code",
   "execution_count": null,
   "metadata": {},
   "outputs": [],
   "source": []
  },
  {
   "cell_type": "code",
   "execution_count": null,
   "metadata": {},
   "outputs": [],
   "source": [
    "import wandb\n",
    "\n",
    "from non_rigid.utils.script_utils import create_model, load_checkpoint_config_from_wandb\n",
    "\n",
    "# MOdel ID to verify against\n",
    "model_id = \"kr93ivph\"\n",
    "\n",
    "cfg = load_checkpoint_config_from_wandb(\n",
    "        OmegaConf.create({\n",
    "            \"mode\": \"train\",\n",
    "            \"wandb\": {\n",
    "                \"entity\": \"r-pad\",\n",
    "                \"project\": \"non-rigid\",\n",
    "                \"artifact_dir\": \"/home/beisner/artifacts\",\n",
    "            },\n",
    "            \"checkpoint\": {\n",
    "                \"reference\": \"r-pad/non_rigid/model-kr93ivph:v0\",\n",
    "            },\n",
    "            \"model\": model_cfg,\n",
    "            \"training\": {\n",
    "                \"lr\": 1e-4,\n",
    "                \"weight_decay\": 1e-5,\n",
    "                \"num_training_steps\": NUM_TRAINING_STEPS,\n",
    "                \"lr_warmup_steps\": 100,\n",
    "                \"additional_train_logging_period\": 1000,\n",
    "                \"batch_size\": 1,\n",
    "                \"val_batch_size\": 1,\n",
    "                \"sample_size\": None,\n",
    "                \"sample_size_anchor\": None,\n",
    "                \"num_wta_trials\": 10,\n",
    "            },\n",
    "            \"dataset\": {\n",
    "                \"data_dir\": \"/home/beisner/datasets/tax3d_data/proccloth/cloth=single-fixed anchor=single-random hole=single\",\n",
    "                \"train_size\": 1,\n",
    "                \"scene\": False,\n",
    "                \"sample_size_action\": 512,\n",
    "                \"sample_size_anchor\": 512,\n",
    "                \"world_frame\": False,\n",
    "                \"source\": \"dedo\",\n",
    "                \"anchor_occlusion\": False,\n",
    "                \"rotation_variance\": 0.0,\n",
    "                \"translation_variance\": 0.0,\n",
    "                \"action_transform_type\": \"identity\",\n",
    "                \"anchor_transform_type\": \"identity\",\n",
    "                \"center_type\": \"anchor_center\",\n",
    "                \"action_context_center_type\": \"center\",\n",
    "                \"downsample_type\": \"fps\",\n",
    "            }\n",
    "        }), \n",
    "        {}, \n",
    "        \"r-pad\", \n",
    "        \"non_rigid\", \n",
    "        model_id,\n",
    "    )\n",
    "\n",
    "\n",
    "network, model = create_model(cfg)\n",
    "\n",
    "\n",
    "# get checkpoint file (for now, this does not log a run)\n",
    "checkpoint_reference = cfg.checkpoint.reference\n",
    "if checkpoint_reference.startswith(cfg.wandb.entity):\n",
    "    api = wandb.Api()\n",
    "    artifact_dir = cfg.wandb.artifact_dir\n",
    "    artifact = api.artifact(checkpoint_reference, type=\"model\")\n",
    "    ckpt_file = artifact.get_path(\"model.ckpt\").download(root=artifact_dir)\n",
    "else:\n",
    "    ckpt_file = checkpoint_reference\n",
    "# Load the network weights.\n",
    "ckpt = torch.load(ckpt_file, map_location=device)\n",
    "network.load_state_dict(\n",
    "    {k.partition(\".\")[2]: v for k, v, in ckpt[\"state_dict\"].items()}\n",
    ")\n",
    "# set model to eval mode\n",
    "network.eval()\n",
    "model.eval()"
   ]
  },
  {
   "cell_type": "code",
   "execution_count": null,
   "metadata": {},
   "outputs": [],
   "source": [
    "model = model.cuda()\n",
    "ckpt_model_preds = model.predict_wta(batch, num_samples=10)\n",
    "print(f\"RMSE: {ckpt_model_preds['rmse'].cpu()}\")\n",
    "print(f\"RMSE wta: {ckpt_model_preds['rmse_wta'].item()}\")"
   ]
  },
  {
   "cell_type": "code",
   "execution_count": null,
   "metadata": {},
   "outputs": [],
   "source": [
    "device = \"cuda:0\""
   ]
  },
  {
   "cell_type": "code",
   "execution_count": null,
   "metadata": {},
   "outputs": [],
   "source": [
    "from PointTransformerV3.model import PointTransformerV3, Point\n",
    "tformer = PointTransformerV3(enable_flash=False, in_channels=3)"
   ]
  },
  {
   "cell_type": "code",
   "execution_count": null,
   "metadata": {},
   "outputs": [],
   "source": [
    "tformer.cuda()"
   ]
  },
  {
   "cell_type": "code",
   "execution_count": null,
   "metadata": {},
   "outputs": [],
   "source": [
    "data[\"pc_action\"].shape"
   ]
  },
  {
   "cell_type": "code",
   "execution_count": null,
   "metadata": {},
   "outputs": [],
   "source": [
    "import torch\n",
    "\n",
    "point = Point(\n",
    "    coord=data[\"pc_action\"].cuda(),\n",
    "    grid_size=0.01,\n",
    "    batch=torch.zeros(data[\"pc_action\"].shape[0]).long().cuda(),\n",
    ")\n",
    "point[\"feat\"] = point[\"coord\"]"
   ]
  },
  {
   "cell_type": "code",
   "execution_count": null,
   "metadata": {},
   "outputs": [],
   "source": [
    "pred = tformer(point)"
   ]
  },
  {
   "cell_type": "code",
   "execution_count": null,
   "metadata": {},
   "outputs": [],
   "source": [
    "pred.feat.shape"
   ]
  },
  {
   "cell_type": "code",
   "execution_count": null,
   "metadata": {},
   "outputs": [],
   "source": [
    "point.offset"
   ]
  },
  {
   "cell_type": "code",
   "execution_count": null,
   "metadata": {},
   "outputs": [],
   "source": []
  }
 ],
 "metadata": {
  "kernelspec": {
   "display_name": "tax3d",
   "language": "python",
   "name": "python3"
  },
  "language_info": {
   "codemirror_mode": {
    "name": "ipython",
    "version": 3
   },
   "file_extension": ".py",
   "mimetype": "text/x-python",
   "name": "python",
   "nbconvert_exporter": "python",
   "pygments_lexer": "ipython3",
   "version": "3.9.20"
  }
 },
 "nbformat": 4,
 "nbformat_minor": 2
}
